{
 "cells": [
  {
   "cell_type": "markdown",
   "metadata": {},
   "source": [
    "# Register Model\n",
    "## Huggingface"
   ]
  },
  {
   "cell_type": "code",
   "execution_count": null,
   "metadata": {},
   "outputs": [],
   "source": [
    "hf_model = registry.register_hf_model(\n",
    "    \"hf-namespace/hf-model\",  # HF repo\n",
    "    \"relative/path/to/model/file.onnx\",\n",
    "    version=\"1.2.3\",\n",
    "    model_name=\"my-model\",\n",
    "    description=\"lorem ipsum\",\n",
    "    model_format_name=\"onnx\",\n",
    "    model_format_version=\"1\",\n",
    ")"
   ]
  },
  {
   "cell_type": "markdown",
   "metadata": {},
   "source": [
    "## Other sources"
   ]
  },
  {
   "cell_type": "code",
   "execution_count": null,
   "metadata": {},
   "outputs": [],
   "source": [
    "from model_registry import ModelRegistry\n",
    "\n",
    "registry = ModelRegistry(\"https://server-address\", author=\"Ada Lovelace\")\n",
    "\n",
    "from model_registry import utils\n",
    "\n",
    "model = registry.register_model(\n",
    "    \"my-model\",  # model name\n",
    "    uri=utils.s3_uri_from(\"path/to/model\", \"my-bucket\"),\n",
    "    version=\"2.0.0\",\n",
    "    description=\"lorem ipsum\",\n",
    "    model_format_name=\"onnx\",\n",
    "    model_format_version=\"1\",\n",
    "    storage_key=\"my-data-connection\",\n",
    "    metadata={\n",
    "        #change later\n",
    "    }\n",
    ")"
   ]
  },
  {
   "cell_type": "code",
   "execution_count": null,
   "metadata": {},
   "outputs": [],
   "source": [
    "from model_registry import ModelRegistry\n",
    "\n",
    "registry = ModelRegistry(\"https://server-address\", author=\"Ada Lovelace\")\n",
    "\n",
    "model = registry.register_model(\n",
    "    \"my-model\",  # model name\n",
    "    \"https://storage-place.my-company.com\",  # model URI\n",
    "    version=\"2.0.0\",\n",
    "    description=\"lorem ipsum\",\n",
    "    model_format_name=\"onnx\",\n",
    "    model_format_version=\"1\",\n",
    "    storage_key=\"my-data-connection\",\n",
    "    storage_path=\"path/to/model\",\n",
    "    metadata={\n",
    "        #change later\n",
    "    }\n",
    ")\n",
    "\n",
    "model = registry.get_registered_model(\"my-model\")\n",
    "print(model)\n",
    "\n",
    "version = registry.get_model_version(\"my-model\", \"2.0.0\")\n",
    "print(version)\n",
    "\n",
    "experiment = registry.get_model_artifact(\"my-model\", \"2.0.0\")\n",
    "print(experiment)"
   ]
  },
  {
   "cell_type": "code",
   "execution_count": null,
   "metadata": {},
   "outputs": [],
   "source": []
  }
 ],
 "metadata": {
  "language_info": {
   "name": "python"
  }
 },
 "nbformat": 4,
 "nbformat_minor": 2
}
