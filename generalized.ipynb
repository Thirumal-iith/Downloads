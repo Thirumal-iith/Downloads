{
 "cells": [
  {
   "cell_type": "code",
   "execution_count": null,
   "metadata": {},
   "outputs": [],
   "source": [
    "import os\n",
    "from urllib.parse import urlparse\n",
    "from model_registry import ModelRegistry"
   ]
  },
  {
   "cell_type": "code",
   "execution_count": null,
   "metadata": {},
   "outputs": [],
   "source": [
    "def infer_model_format(uri_or_repo):\n",
    "    ext = os.path.splitext(uri_or_repo)[1].lower()\n",
    "    return {\n",
    "        \".onnx\": \"onnx\",\n",
    "        \".pkl\": \"sklearn\",\n",
    "        \".pt\": \"pytorch\",\n",
    "        \".joblib\": \"sklearn\",\n",
    "        \".h5\": \"keras\",\n",
    "        \".sav\": \"sklearn\"\n",
    "    }.get(ext, \"unknown\")\n"
   ]
  },
  {
   "cell_type": "code",
   "execution_count": null,
   "metadata": {},
   "outputs": [],
   "source": [
    "def is_hf_model(uri_or_repo):\n",
    "    return \"/\" in uri_or_repo and not uri_or_repo.startswith(\"http\")\n"
   ]
  },
  {
   "cell_type": "code",
   "execution_count": null,
   "metadata": {},
   "outputs": [],
   "source": [
    "def register_model_kubeflow(registry_url: str, author: str, model_uri_or_repo: str, model_name: str,version: str = \"1.0.0\",\n",
    "    description: str = \"Auto-registered model\", model_path: str = None,model_format_name: str = None, model_format_version: str = \"1\", \n",
    "    storage_key: str = None, metadata: dict = None         \n",
    "):\n",
    "    registry = ModelRegistry(registry_url, author=author)\n",
    "\n",
    "    # Check whether this is a Hugging Face model\n",
    "    huggingface = is_hf_model(model_uri_or_repo)\n",
    "\n",
    "    # Auto-infer model format if not provided\n",
    "    if not model_format_name:\n",
    "        model_format_name = infer_model_format(model_path or model_uri_or_repo)\n",
    "\n",
    "    # Auto-infer model path from URI if not provided\n",
    "    if not model_path:\n",
    "        parsed = urlparse(model_uri_or_repo)\n",
    "        model_path = parsed.path.lstrip(\"/\") if parsed.scheme in [\"http\", \"https\"] else model_uri_or_repo\n",
    "\n",
    "    if huggingface:\n",
    "        model = registry.register_hf_model(\n",
    "            repo_id=model_uri_or_repo,\n",
    "            path=model_path,\n",
    "            version=version,\n",
    "            model_name=model_name,\n",
    "            description=description,\n",
    "            model_format_name=model_format_name,\n",
    "            model_format_version=model_format_version,\n",
    "            metadata=metadata or {}\n",
    "        )\n",
    "    # Register generic URI-based model\n",
    "    else:\n",
    "        model = registry.register_model(\n",
    "            model_name=model_name,\n",
    "            uri=model_uri_or_repo,\n",
    "            version=version,\n",
    "            description=description,\n",
    "            model_format_name=model_format_name,\n",
    "            model_format_version=model_format_version,\n",
    "            storage_key=storage_key,\n",
    "            storage_path=model_path,\n",
    "            metadata=metadata or {}\n",
    "        )\n",
    "    print(\" Model registered:\", model)\n",
    "    print(\" Registered model:\", registry.get_registered_model(model_name))\n",
    "    print(\" Model version:\", registry.get_model_version(model_name, version))\n",
    "    print(\" Artifact info:\", registry.get_model_artifact(model_name, version))\n",
    "\n",
    "    return model"
   ]
  },
  {
   "cell_type": "code",
   "execution_count": null,
   "metadata": {},
   "outputs": [],
   "source": [
    "if __name__ == \"__main__\":\n",
    "    register_model_kubeflow(\n",
    "        registry_url=\"http://localhost:8080\",\n",
    "        author=\"thirumalesh\",\n",
    "        model_uri_or_repo=\"https://storage.my-org.com/models/road-segmentation.onnx\",\n",
    "        model_name=\"road-segmentation-v2\",\n",
    "        version=\"2.0.1\",\n",
    "        description=\"Road segmentation model trained on Indian highway dataset\",\n",
    "        storage_key=\"s3-roadmodels\",\n",
    "        metadata={\n",
    "            \"accuracy\": 0.937,\n",
    "            \"precision\": 0.91,\n",
    "            \"recall\": 0.92,\n",
    "            \"framework\": \"onnx\",\n",
    "            \"task\": \"segmentation\",\n",
    "            \"dataset\": \"IndianHighway-v3\",\n",
    "            \"training_time\": \"3h45m\",\n",
    "            \"epochs\": 25,\n",
    "            \"learning_rate\": 0.001,\n",
    "            \"optimizer\": \"Adam\",\n",
    "            \"batch_size\": 32,\n",
    "            \"loss_function\": \"cross_entropy\",\n",
    "            \"inference_latency_ms\": 12.4,\n",
    "            \"developer\": \"cv-team\",\n",
    "            \"tags\": [\"production\", \"segmentation\", \"cv\"]\n",
    "        }\n",
    "    )\n"
   ]
  }
 ],
 "metadata": {
  "language_info": {
   "name": "python"
  }
 },
 "nbformat": 4,
 "nbformat_minor": 2
}
