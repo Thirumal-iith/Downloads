{
 "cells": [
  {
   "cell_type": "code",
   "execution_count": 1,
   "metadata": {},
   "outputs": [
    {
     "name": "stdout",
     "output_type": "stream",
     "text": [
      "Requirement already satisfied: model-registry==0.2.3a1 in c:\\users\\intel\\appdata\\local\\programs\\python\\python312\\lib\\site-packages (0.2.3a1)\n",
      "Requirement already satisfied: aiohttp<4.0.0,>=3.9.5 in c:\\users\\intel\\appdata\\local\\programs\\python\\python312\\lib\\site-packages (from model-registry==0.2.3a1) (3.12.9)\n",
      "Requirement already satisfied: aiohttp-retry<3.0.0,>=2.8.3 in c:\\users\\intel\\appdata\\local\\programs\\python\\python312\\lib\\site-packages (from model-registry==0.2.3a1) (2.9.1)\n",
      "Requirement already satisfied: eval-type-backport<0.3.0,>=0.2.0 in c:\\users\\intel\\appdata\\local\\programs\\python\\python312\\lib\\site-packages (from model-registry==0.2.3a1) (0.2.2)\n",
      "Requirement already satisfied: nest-asyncio<2.0.0,>=1.6.0 in c:\\users\\intel\\appdata\\local\\programs\\python\\python312\\lib\\site-packages (from model-registry==0.2.3a1) (1.6.0)\n",
      "Requirement already satisfied: pydantic<3.0.0,>=2.7.4 in c:\\users\\intel\\appdata\\local\\programs\\python\\python312\\lib\\site-packages (from model-registry==0.2.3a1) (2.11.7)\n",
      "Requirement already satisfied: python-dateutil<3.0.0,>=2.9.0.post0 in c:\\users\\intel\\appdata\\local\\programs\\python\\python312\\lib\\site-packages (from model-registry==0.2.3a1) (2.9.0.post0)\n",
      "Requirement already satisfied: typing-extensions<5.0,>=4.8 in c:\\users\\intel\\appdata\\local\\programs\\python\\python312\\lib\\site-packages (from model-registry==0.2.3a1) (4.12.2)\n",
      "Requirement already satisfied: aiohappyeyeballs>=2.5.0 in c:\\users\\intel\\appdata\\local\\programs\\python\\python312\\lib\\site-packages (from aiohttp<4.0.0,>=3.9.5->model-registry==0.2.3a1) (2.6.1)\n",
      "Requirement already satisfied: aiosignal>=1.1.2 in c:\\users\\intel\\appdata\\local\\programs\\python\\python312\\lib\\site-packages (from aiohttp<4.0.0,>=3.9.5->model-registry==0.2.3a1) (1.3.2)\n",
      "Requirement already satisfied: attrs>=17.3.0 in c:\\users\\intel\\appdata\\local\\programs\\python\\python312\\lib\\site-packages (from aiohttp<4.0.0,>=3.9.5->model-registry==0.2.3a1) (25.1.0)\n",
      "Requirement already satisfied: frozenlist>=1.1.1 in c:\\users\\intel\\appdata\\local\\programs\\python\\python312\\lib\\site-packages (from aiohttp<4.0.0,>=3.9.5->model-registry==0.2.3a1) (1.6.2)\n",
      "Requirement already satisfied: multidict<7.0,>=4.5 in c:\\users\\intel\\appdata\\local\\programs\\python\\python312\\lib\\site-packages (from aiohttp<4.0.0,>=3.9.5->model-registry==0.2.3a1) (6.4.4)\n",
      "Requirement already satisfied: propcache>=0.2.0 in c:\\users\\intel\\appdata\\local\\programs\\python\\python312\\lib\\site-packages (from aiohttp<4.0.0,>=3.9.5->model-registry==0.2.3a1) (0.3.1)\n",
      "Requirement already satisfied: yarl<2.0,>=1.17.0 in c:\\users\\intel\\appdata\\local\\programs\\python\\python312\\lib\\site-packages (from aiohttp<4.0.0,>=3.9.5->model-registry==0.2.3a1) (1.20.0)\n",
      "Requirement already satisfied: annotated-types>=0.6.0 in c:\\users\\intel\\appdata\\local\\programs\\python\\python312\\lib\\site-packages (from pydantic<3.0.0,>=2.7.4->model-registry==0.2.3a1) (0.7.0)\n",
      "Requirement already satisfied: pydantic-core==2.33.2 in c:\\users\\intel\\appdata\\local\\programs\\python\\python312\\lib\\site-packages (from pydantic<3.0.0,>=2.7.4->model-registry==0.2.3a1) (2.33.2)\n",
      "Requirement already satisfied: typing-inspection>=0.4.0 in c:\\users\\intel\\appdata\\local\\programs\\python\\python312\\lib\\site-packages (from pydantic<3.0.0,>=2.7.4->model-registry==0.2.3a1) (0.4.1)\n",
      "Requirement already satisfied: six>=1.5 in c:\\users\\intel\\appdata\\local\\programs\\python\\python312\\lib\\site-packages (from python-dateutil<3.0.0,>=2.9.0.post0->model-registry==0.2.3a1) (1.17.0)\n",
      "Requirement already satisfied: idna>=2.0 in c:\\users\\intel\\appdata\\local\\programs\\python\\python312\\lib\\site-packages (from yarl<2.0,>=1.17.0->aiohttp<4.0.0,>=3.9.5->model-registry==0.2.3a1) (3.10)\n"
     ]
    },
    {
     "name": "stderr",
     "output_type": "stream",
     "text": [
      "WARNING: Ignoring invalid distribution ~ip (C:\\Users\\INTEL\\AppData\\Local\\Programs\\Python\\Python312\\Lib\\site-packages)\n",
      "WARNING: Ignoring invalid distribution ~ip (C:\\Users\\INTEL\\AppData\\Local\\Programs\\Python\\Python312\\Lib\\site-packages)\n",
      "WARNING: Ignoring invalid distribution ~ip (C:\\Users\\INTEL\\AppData\\Local\\Programs\\Python\\Python312\\Lib\\site-packages)\n",
      "\n",
      "[notice] A new release of pip is available: 24.3.1 -> 25.1.1\n",
      "[notice] To update, run: python.exe -m pip install --upgrade pip\n"
     ]
    }
   ],
   "source": [
    "!pip install --pre model-registry==\"0.2.3a1\""
   ]
  },
  {
   "cell_type": "code",
   "execution_count": 40,
   "metadata": {},
   "outputs": [],
   "source": [
    "from model_registry import ModelRegistry\n",
    "\n",
    "registry = ModelRegistry(\n",
    "    server_address=\"http://localhost\", \n",
    "    port=8080,\n",
    "    author=\"nikhil\",\n",
    "    is_secure=False,                \n",
    "    user_token=\"nihill\"    \n",
    ")\n",
    "\n"
   ]
  },
  {
   "cell_type": "code",
   "execution_count": 41,
   "metadata": {},
   "outputs": [],
   "source": [
    "response = registry.register_model(\n",
    "    name=\"mnist-cnn\",\n",
    "    uri=\"https://github.com/tarilabs/demo20231212/raw/main/v1.nb20231206162408/mnist.onnx\",\n",
    "    version=\"v1\",\n",
    "    description=\"MNIST  model\",\n",
    "    model_format_name=\"onnx\",\n",
    "    model_format_version=\"2.0\",\n",
    "    metadata={\n",
    "        'framework': 'pytorch',\n",
    "        'version': 'v1'\n",
    "    }\n",
    ")\n"
   ]
  },
  {
   "cell_type": "code",
   "execution_count": null,
   "metadata": {},
   "outputs": [],
   "source": [
    "from model_registry import utils\n",
    "\n",
    "model = registry.register_model(\n",
    "    \"my-model\",  # model name\n",
    "    uri=utils.s3_uri_from(\"artifacts/keras-wcrl9/2025/07/02/keras-wcrl9-upload-to-minio-2777988069/upload-to-minio-MinIO-path.tgz\", \"mlpipeline\"),\n",
    "    version=\"2.0.0\",\n",
    "    description=\"lorem ipsum\",\n",
    "    model_format_name=\"onnx\",\n",
    "    model_format_version=\"1\",\n",
    "    storage_key=\"my-data-connection\",\n",
    "    metadata={\n",
    "       'framework': 'keras',\n",
    "        'version': 'v1'\n",
    "    }\n",
    ")"
   ]
  },
  {
   "cell_type": "code",
   "execution_count": null,
   "metadata": {},
   "outputs": [],
   "source": [
    "hf_model = registry.register_hf_model(\n",
    "    \"hf-namespace/hf-model\",  # HF repo\n",
    "    \"relative/path/to/model/file.onnx\",\n",
    "    version=\"1.2.3\",\n",
    "    model_name=\"my-model\",\n",
    "    description=\"lorem ipsum\",\n",
    "    model_format_name=\"onnx\",\n",
    "    model_format_version=\"1\",\n",
    ")"
   ]
  }
 ],
 "metadata": {
  "kernelspec": {
   "display_name": "Python 3",
   "language": "python",
   "name": "python3"
  },
  "language_info": {
   "codemirror_mode": {
    "name": "ipython",
    "version": 3
   },
   "file_extension": ".py",
   "mimetype": "text/x-python",
   "name": "python",
   "nbconvert_exporter": "python",
   "pygments_lexer": "ipython3",
   "version": "3.12.8"
  }
 },
 "nbformat": 4,
 "nbformat_minor": 2
}
