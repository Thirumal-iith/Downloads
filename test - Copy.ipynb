{
 "cells": [
  {
   "cell_type": "code",
   "execution_count": 1,
   "metadata": {},
   "outputs": [
    {
     "name": "stdout",
     "output_type": "stream",
     "text": [
      "Requirement already satisfied: model-registry==0.2.3a1 in c:\\users\\intel\\appdata\\local\\programs\\python\\python312\\lib\\site-packages (0.2.3a1)\n",
      "Requirement already satisfied: aiohttp<4.0.0,>=3.9.5 in c:\\users\\intel\\appdata\\local\\programs\\python\\python312\\lib\\site-packages (from model-registry==0.2.3a1) (3.12.9)\n",
      "Requirement already satisfied: aiohttp-retry<3.0.0,>=2.8.3 in c:\\users\\intel\\appdata\\local\\programs\\python\\python312\\lib\\site-packages (from model-registry==0.2.3a1) (2.9.1)\n",
      "Requirement already satisfied: eval-type-backport<0.3.0,>=0.2.0 in c:\\users\\intel\\appdata\\local\\programs\\python\\python312\\lib\\site-packages (from model-registry==0.2.3a1) (0.2.2)\n",
      "Requirement already satisfied: nest-asyncio<2.0.0,>=1.6.0 in c:\\users\\intel\\appdata\\local\\programs\\python\\python312\\lib\\site-packages (from model-registry==0.2.3a1) (1.6.0)\n",
      "Requirement already satisfied: pydantic<3.0.0,>=2.7.4 in c:\\users\\intel\\appdata\\local\\programs\\python\\python312\\lib\\site-packages (from model-registry==0.2.3a1) (2.11.7)\n",
      "Requirement already satisfied: python-dateutil<3.0.0,>=2.9.0.post0 in c:\\users\\intel\\appdata\\local\\programs\\python\\python312\\lib\\site-packages (from model-registry==0.2.3a1) (2.9.0.post0)\n",
      "Requirement already satisfied: typing-extensions<5.0,>=4.8 in c:\\users\\intel\\appdata\\local\\programs\\python\\python312\\lib\\site-packages (from model-registry==0.2.3a1) (4.12.2)\n",
      "Requirement already satisfied: aiohappyeyeballs>=2.5.0 in c:\\users\\intel\\appdata\\local\\programs\\python\\python312\\lib\\site-packages (from aiohttp<4.0.0,>=3.9.5->model-registry==0.2.3a1) (2.6.1)\n",
      "Requirement already satisfied: aiosignal>=1.1.2 in c:\\users\\intel\\appdata\\local\\programs\\python\\python312\\lib\\site-packages (from aiohttp<4.0.0,>=3.9.5->model-registry==0.2.3a1) (1.3.2)\n",
      "Requirement already satisfied: attrs>=17.3.0 in c:\\users\\intel\\appdata\\local\\programs\\python\\python312\\lib\\site-packages (from aiohttp<4.0.0,>=3.9.5->model-registry==0.2.3a1) (25.1.0)\n",
      "Requirement already satisfied: frozenlist>=1.1.1 in c:\\users\\intel\\appdata\\local\\programs\\python\\python312\\lib\\site-packages (from aiohttp<4.0.0,>=3.9.5->model-registry==0.2.3a1) (1.6.2)\n",
      "Requirement already satisfied: multidict<7.0,>=4.5 in c:\\users\\intel\\appdata\\local\\programs\\python\\python312\\lib\\site-packages (from aiohttp<4.0.0,>=3.9.5->model-registry==0.2.3a1) (6.4.4)\n",
      "Requirement already satisfied: propcache>=0.2.0 in c:\\users\\intel\\appdata\\local\\programs\\python\\python312\\lib\\site-packages (from aiohttp<4.0.0,>=3.9.5->model-registry==0.2.3a1) (0.3.1)\n",
      "Requirement already satisfied: yarl<2.0,>=1.17.0 in c:\\users\\intel\\appdata\\local\\programs\\python\\python312\\lib\\site-packages (from aiohttp<4.0.0,>=3.9.5->model-registry==0.2.3a1) (1.20.0)\n",
      "Requirement already satisfied: annotated-types>=0.6.0 in c:\\users\\intel\\appdata\\local\\programs\\python\\python312\\lib\\site-packages (from pydantic<3.0.0,>=2.7.4->model-registry==0.2.3a1) (0.7.0)\n",
      "Requirement already satisfied: pydantic-core==2.33.2 in c:\\users\\intel\\appdata\\local\\programs\\python\\python312\\lib\\site-packages (from pydantic<3.0.0,>=2.7.4->model-registry==0.2.3a1) (2.33.2)\n",
      "Requirement already satisfied: typing-inspection>=0.4.0 in c:\\users\\intel\\appdata\\local\\programs\\python\\python312\\lib\\site-packages (from pydantic<3.0.0,>=2.7.4->model-registry==0.2.3a1) (0.4.1)\n",
      "Requirement already satisfied: six>=1.5 in c:\\users\\intel\\appdata\\local\\programs\\python\\python312\\lib\\site-packages (from python-dateutil<3.0.0,>=2.9.0.post0->model-registry==0.2.3a1) (1.17.0)\n",
      "Requirement already satisfied: idna>=2.0 in c:\\users\\intel\\appdata\\local\\programs\\python\\python312\\lib\\site-packages (from yarl<2.0,>=1.17.0->aiohttp<4.0.0,>=3.9.5->model-registry==0.2.3a1) (3.10)\n"
     ]
    },
    {
     "name": "stderr",
     "output_type": "stream",
     "text": [
      "WARNING: Ignoring invalid distribution ~ip (C:\\Users\\INTEL\\AppData\\Local\\Programs\\Python\\Python312\\Lib\\site-packages)\n",
      "WARNING: Ignoring invalid distribution ~ip (C:\\Users\\INTEL\\AppData\\Local\\Programs\\Python\\Python312\\Lib\\site-packages)\n",
      "WARNING: Ignoring invalid distribution ~ip (C:\\Users\\INTEL\\AppData\\Local\\Programs\\Python\\Python312\\Lib\\site-packages)\n",
      "\n",
      "[notice] A new release of pip is available: 24.3.1 -> 25.1.1\n",
      "[notice] To update, run: python.exe -m pip install --upgrade pip\n"
     ]
    }
   ],
   "source": [
    "!pip install --pre model-registry==\"0.2.3a1\""
   ]
  },
  {
   "cell_type": "code",
   "execution_count": 40,
   "metadata": {},
   "outputs": [],
   "source": [
    "from model_registry import ModelRegistry\n",
    "\n",
    "registry = ModelRegistry(\n",
    "    server_address=\"http://localhost\", \n",
    "    port=8080,\n",
    "    author=\"nikhil\",\n",
    "    is_secure=False,                \n",
    "    user_token=\"nihill\"    \n",
    ")\n",
    "\n"
   ]
  },
  {
   "cell_type": "code",
   "execution_count": 41,
   "metadata": {},
   "outputs": [],
   "source": [
    "response = registry.register_model(\n",
    "    name=\"mnist-cnn\",\n",
    "    uri=\"https://github.com/tarilabs/demo20231212/raw/main/v1.nb20231206162408/mnist.onnx\",\n",
    "    version=\"v1\",\n",
    "    description=\"MNIST  model\",\n",
    "    model_format_name=\"onnx\",\n",
    "    model_format_version=\"2.0\",\n",
    "    metadata={\n",
    "        'framework': 'pytorch',\n",
    "        'version': 'v1'\n",
    "    }\n",
    ")\n"
   ]
  },
  {
   "cell_type": "code",
   "execution_count": 47,
   "metadata": {},
   "outputs": [
    {
     "ename": "MissingMetadata",
     "evalue": "bucket_endpoint and bucket_region must be provided for non-default bucket",
     "output_type": "error",
     "traceback": [
      "\u001b[1;31m---------------------------------------------------------------------------\u001b[0m",
      "\u001b[1;31mMissingMetadata\u001b[0m                           Traceback (most recent call last)",
      "Cell \u001b[1;32mIn[47], line 5\u001b[0m\n\u001b[0;32m      1\u001b[0m \u001b[38;5;28;01mfrom\u001b[39;00m\u001b[38;5;250m \u001b[39m\u001b[38;5;21;01mmodel_registry\u001b[39;00m\u001b[38;5;250m \u001b[39m\u001b[38;5;28;01mimport\u001b[39;00m utils\n\u001b[0;32m      3\u001b[0m model \u001b[38;5;241m=\u001b[39m registry\u001b[38;5;241m.\u001b[39mregister_model(\n\u001b[0;32m      4\u001b[0m     \u001b[38;5;124m\"\u001b[39m\u001b[38;5;124mmy-model\u001b[39m\u001b[38;5;124m\"\u001b[39m,  \u001b[38;5;66;03m# model name\u001b[39;00m\n\u001b[1;32m----> 5\u001b[0m     uri\u001b[38;5;241m=\u001b[39m\u001b[43mutils\u001b[49m\u001b[38;5;241;43m.\u001b[39;49m\u001b[43ms3_uri_from\u001b[49m\u001b[43m(\u001b[49m\u001b[38;5;124;43m\"\u001b[39;49m\u001b[38;5;124;43martifacts/keras-wcrl9/2025/07/02/keras-wcrl9-upload-to-minio-2777988069/upload-to-minio-MinIO-path.tgz\u001b[39;49m\u001b[38;5;124;43m\"\u001b[39;49m\u001b[43m,\u001b[49m\u001b[43m \u001b[49m\u001b[38;5;124;43m\"\u001b[39;49m\u001b[38;5;124;43mmlpipeline\u001b[39;49m\u001b[38;5;124;43m\"\u001b[39;49m\u001b[43m)\u001b[49m,\n\u001b[0;32m      6\u001b[0m     version\u001b[38;5;241m=\u001b[39m\u001b[38;5;124m\"\u001b[39m\u001b[38;5;124m2.0.0\u001b[39m\u001b[38;5;124m\"\u001b[39m,\n\u001b[0;32m      7\u001b[0m     description\u001b[38;5;241m=\u001b[39m\u001b[38;5;124m\"\u001b[39m\u001b[38;5;124mlorem ipsum\u001b[39m\u001b[38;5;124m\"\u001b[39m,\n\u001b[0;32m      8\u001b[0m     model_format_name\u001b[38;5;241m=\u001b[39m\u001b[38;5;124m\"\u001b[39m\u001b[38;5;124monnx\u001b[39m\u001b[38;5;124m\"\u001b[39m,\n\u001b[0;32m      9\u001b[0m     model_format_version\u001b[38;5;241m=\u001b[39m\u001b[38;5;124m\"\u001b[39m\u001b[38;5;124m1\u001b[39m\u001b[38;5;124m\"\u001b[39m,\n\u001b[0;32m     10\u001b[0m     storage_key\u001b[38;5;241m=\u001b[39m\u001b[38;5;124m\"\u001b[39m\u001b[38;5;124mmy-data-connection\u001b[39m\u001b[38;5;124m\"\u001b[39m,\n\u001b[0;32m     11\u001b[0m     metadata\u001b[38;5;241m=\u001b[39m{\n\u001b[0;32m     12\u001b[0m        \u001b[38;5;124m'\u001b[39m\u001b[38;5;124mframework\u001b[39m\u001b[38;5;124m'\u001b[39m: \u001b[38;5;124m'\u001b[39m\u001b[38;5;124mkeras\u001b[39m\u001b[38;5;124m'\u001b[39m,\n\u001b[0;32m     13\u001b[0m         \u001b[38;5;124m'\u001b[39m\u001b[38;5;124mversion\u001b[39m\u001b[38;5;124m'\u001b[39m: \u001b[38;5;124m'\u001b[39m\u001b[38;5;124mv1\u001b[39m\u001b[38;5;124m'\u001b[39m\n\u001b[0;32m     14\u001b[0m     }\n\u001b[0;32m     15\u001b[0m )\n",
      "File \u001b[1;32mc:\\Users\\INTEL\\AppData\\Local\\Programs\\Python\\Python312\\Lib\\site-packages\\model_registry\\_utils.py:105\u001b[0m, in \u001b[0;36mrequired_args.<locals>.inner.<locals>.wrapper\u001b[1;34m(*args, **kwargs)\u001b[0m\n\u001b[0;32m    103\u001b[0m             msg \u001b[38;5;241m=\u001b[39m \u001b[38;5;124mf\u001b[39m\u001b[38;5;124m\"\u001b[39m\u001b[38;5;124mMissing required argument: \u001b[39m\u001b[38;5;132;01m{\u001b[39;00mquote(missing[\u001b[38;5;241m0\u001b[39m])\u001b[38;5;132;01m}\u001b[39;00m\u001b[38;5;124m\"\u001b[39m\n\u001b[0;32m    104\u001b[0m     \u001b[38;5;28;01mraise\u001b[39;00m \u001b[38;5;167;01mTypeError\u001b[39;00m(msg)\n\u001b[1;32m--> 105\u001b[0m \u001b[38;5;28;01mreturn\u001b[39;00m \u001b[43mfunc\u001b[49m\u001b[43m(\u001b[49m\u001b[38;5;241;43m*\u001b[39;49m\u001b[43margs\u001b[49m\u001b[43m,\u001b[49m\u001b[43m \u001b[49m\u001b[38;5;241;43m*\u001b[39;49m\u001b[38;5;241;43m*\u001b[39;49m\u001b[43mkwargs\u001b[49m\u001b[43m)\u001b[49m\n",
      "File \u001b[1;32mc:\\Users\\INTEL\\AppData\\Local\\Programs\\Python\\Python312\\Lib\\site-packages\\model_registry\\utils.py:81\u001b[0m, in \u001b[0;36ms3_uri_from\u001b[1;34m(path, bucket, endpoint, region)\u001b[0m\n\u001b[0;32m     77\u001b[0m \u001b[38;5;28;01melif\u001b[39;00m (\u001b[38;5;129;01mnot\u001b[39;00m default_bucket \u001b[38;5;129;01mor\u001b[39;00m default_bucket \u001b[38;5;241m!=\u001b[39m bucket) \u001b[38;5;129;01mand\u001b[39;00m \u001b[38;5;129;01mnot\u001b[39;00m endpoint:\n\u001b[0;32m     78\u001b[0m     msg \u001b[38;5;241m=\u001b[39m (\n\u001b[0;32m     79\u001b[0m         \u001b[38;5;124m\"\u001b[39m\u001b[38;5;124mbucket_endpoint and bucket_region must be provided for non-default bucket\u001b[39m\u001b[38;5;124m\"\u001b[39m\n\u001b[0;32m     80\u001b[0m     )\n\u001b[1;32m---> 81\u001b[0m     \u001b[38;5;28;01mraise\u001b[39;00m MissingMetadata(msg)\n\u001b[0;32m     83\u001b[0m endpoint \u001b[38;5;241m=\u001b[39m endpoint \u001b[38;5;129;01mor\u001b[39;00m os\u001b[38;5;241m.\u001b[39mgetenv(\u001b[38;5;124m\"\u001b[39m\u001b[38;5;124mAWS_S3_ENDPOINT\u001b[39m\u001b[38;5;124m\"\u001b[39m)\n\u001b[0;32m     84\u001b[0m region \u001b[38;5;241m=\u001b[39m region \u001b[38;5;129;01mor\u001b[39;00m os\u001b[38;5;241m.\u001b[39mgetenv(\u001b[38;5;124m\"\u001b[39m\u001b[38;5;124mAWS_DEFAULT_REGION\u001b[39m\u001b[38;5;124m\"\u001b[39m)\n",
      "\u001b[1;31mMissingMetadata\u001b[0m: bucket_endpoint and bucket_region must be provided for non-default bucket"
     ]
    }
   ],
   "source": [
    "from model_registry import utils\n",
    "\n",
    "model = registry.register_model(\n",
    "    \"my-model\",  # model name\n",
    "    uri=utils.s3_uri_from(\"artifacts/keras-wcrl9/2025/07/02/keras-wcrl9-upload-to-minio-2777988069/upload-to-minio-MinIO-path.tgz\", \"mlpipeline\"),\n",
    "    version=\"2.0.0\",\n",
    "    description=\"lorem ipsum\",\n",
    "    model_format_name=\"onnx\",\n",
    "    model_format_version=\"1\",\n",
    "    storage_key=\"my-data-connection\",\n",
    "    metadata={\n",
    "       'framework': 'keras',\n",
    "        'version': 'v1'\n",
    "    }\n",
    ")"
   ]
  },
  {
   "cell_type": "code",
   "execution_count": 46,
   "metadata": {},
   "outputs": [
    {
     "ename": "StoreError",
     "evalue": "huggingface_hub is not installed",
     "output_type": "error",
     "traceback": [
      "\u001b[1;31m---------------------------------------------------------------------------\u001b[0m",
      "\u001b[1;31mModuleNotFoundError\u001b[0m                       Traceback (most recent call last)",
      "File \u001b[1;32mc:\\Users\\INTEL\\AppData\\Local\\Programs\\Python\\Python312\\Lib\\site-packages\\model_registry\\_client.py:224\u001b[0m, in \u001b[0;36mModelRegistry.register_hf_model\u001b[1;34m(self, repo, path, version, model_format_name, model_format_version, author, owner, model_name, description, git_ref)\u001b[0m\n\u001b[0;32m    223\u001b[0m \u001b[38;5;28;01mtry\u001b[39;00m:\n\u001b[1;32m--> 224\u001b[0m     \u001b[38;5;28;01mfrom\u001b[39;00m\u001b[38;5;250m \u001b[39m\u001b[38;5;21;01mhuggingface_hub\u001b[39;00m\u001b[38;5;250m \u001b[39m\u001b[38;5;28;01mimport\u001b[39;00m HfApi, hf_hub_url, utils\n\u001b[0;32m    225\u001b[0m \u001b[38;5;28;01mexcept\u001b[39;00m \u001b[38;5;167;01mImportError\u001b[39;00m \u001b[38;5;28;01mas\u001b[39;00m e:\n",
      "\u001b[1;31mModuleNotFoundError\u001b[0m: No module named 'huggingface_hub'",
      "\nThe above exception was the direct cause of the following exception:\n",
      "\u001b[1;31mStoreError\u001b[0m                                Traceback (most recent call last)",
      "Cell \u001b[1;32mIn[46], line 1\u001b[0m\n\u001b[1;32m----> 1\u001b[0m hf_model \u001b[38;5;241m=\u001b[39m \u001b[43mregistry\u001b[49m\u001b[38;5;241;43m.\u001b[39;49m\u001b[43mregister_hf_model\u001b[49m\u001b[43m(\u001b[49m\n\u001b[0;32m      2\u001b[0m \u001b[43m    \u001b[49m\u001b[38;5;124;43m\"\u001b[39;49m\u001b[38;5;124;43mhf-namespace/hf-model\u001b[39;49m\u001b[38;5;124;43m\"\u001b[39;49m\u001b[43m,\u001b[49m\u001b[43m  \u001b[49m\u001b[38;5;66;43;03m# HF repo\u001b[39;49;00m\n\u001b[0;32m      3\u001b[0m \u001b[43m    \u001b[49m\u001b[38;5;124;43m\"\u001b[39;49m\u001b[38;5;124;43mrelative/path/to/model/file.onnx\u001b[39;49m\u001b[38;5;124;43m\"\u001b[39;49m\u001b[43m,\u001b[49m\n\u001b[0;32m      4\u001b[0m \u001b[43m    \u001b[49m\u001b[43mversion\u001b[49m\u001b[38;5;241;43m=\u001b[39;49m\u001b[38;5;124;43m\"\u001b[39;49m\u001b[38;5;124;43m1.2.3\u001b[39;49m\u001b[38;5;124;43m\"\u001b[39;49m\u001b[43m,\u001b[49m\n\u001b[0;32m      5\u001b[0m \u001b[43m    \u001b[49m\u001b[43mmodel_name\u001b[49m\u001b[38;5;241;43m=\u001b[39;49m\u001b[38;5;124;43m\"\u001b[39;49m\u001b[38;5;124;43mmy-model\u001b[39;49m\u001b[38;5;124;43m\"\u001b[39;49m\u001b[43m,\u001b[49m\n\u001b[0;32m      6\u001b[0m \u001b[43m    \u001b[49m\u001b[43mdescription\u001b[49m\u001b[38;5;241;43m=\u001b[39;49m\u001b[38;5;124;43m\"\u001b[39;49m\u001b[38;5;124;43mlorem ipsum\u001b[39;49m\u001b[38;5;124;43m\"\u001b[39;49m\u001b[43m,\u001b[49m\n\u001b[0;32m      7\u001b[0m \u001b[43m    \u001b[49m\u001b[43mmodel_format_name\u001b[49m\u001b[38;5;241;43m=\u001b[39;49m\u001b[38;5;124;43m\"\u001b[39;49m\u001b[38;5;124;43monnx\u001b[39;49m\u001b[38;5;124;43m\"\u001b[39;49m\u001b[43m,\u001b[49m\n\u001b[0;32m      8\u001b[0m \u001b[43m    \u001b[49m\u001b[43mmodel_format_version\u001b[49m\u001b[38;5;241;43m=\u001b[39;49m\u001b[38;5;124;43m\"\u001b[39;49m\u001b[38;5;124;43m1\u001b[39;49m\u001b[38;5;124;43m\"\u001b[39;49m\u001b[43m,\u001b[49m\n\u001b[0;32m      9\u001b[0m \u001b[43m)\u001b[49m\n",
      "File \u001b[1;32mc:\\Users\\INTEL\\AppData\\Local\\Programs\\Python\\Python312\\Lib\\site-packages\\model_registry\\_client.py:227\u001b[0m, in \u001b[0;36mModelRegistry.register_hf_model\u001b[1;34m(self, repo, path, version, model_format_name, model_format_version, author, owner, model_name, description, git_ref)\u001b[0m\n\u001b[0;32m    225\u001b[0m \u001b[38;5;28;01mexcept\u001b[39;00m \u001b[38;5;167;01mImportError\u001b[39;00m \u001b[38;5;28;01mas\u001b[39;00m e:\n\u001b[0;32m    226\u001b[0m     msg \u001b[38;5;241m=\u001b[39m \u001b[38;5;124m\"\u001b[39m\u001b[38;5;124mhuggingface_hub is not installed\u001b[39m\u001b[38;5;124m\"\u001b[39m\n\u001b[1;32m--> 227\u001b[0m     \u001b[38;5;28;01mraise\u001b[39;00m StoreError(msg) \u001b[38;5;28;01mfrom\u001b[39;00m\u001b[38;5;250m \u001b[39m\u001b[38;5;21;01me\u001b[39;00m\n\u001b[0;32m    229\u001b[0m api \u001b[38;5;241m=\u001b[39m HfApi()\n\u001b[0;32m    230\u001b[0m \u001b[38;5;28;01mtry\u001b[39;00m:\n",
      "\u001b[1;31mStoreError\u001b[0m: huggingface_hub is not installed"
     ]
    }
   ],
   "source": [
    "hf_model = registry.register_hf_model(\n",
    "    \"hf-namespace/hf-model\",  # HF repo\n",
    "    \"relative/path/to/model/file.onnx\",\n",
    "    version=\"1.2.3\",\n",
    "    model_name=\"my-model\",\n",
    "    description=\"lorem ipsum\",\n",
    "    model_format_name=\"onnx\",\n",
    "    model_format_version=\"1\",\n",
    ")"
   ]
  },
  {
   "cell_type": "code",
   "execution_count": null,
   "metadata": {},
   "outputs": [],
   "source": []
  },
  {
   "cell_type": "code",
   "execution_count": null,
   "metadata": {},
   "outputs": [],
   "source": [
    "from model_registry import utils\n",
    "\n",
    "model = registry.register_model(\n",
    "    \"my-model\",  # model name\n",
    "    uri=utils.s3_uri_from(\"path/to/model\", \"my-bucket\"),\n",
    "    version=\"2.0.0\",\n",
    "    description=\"lorem ipsum\",\n",
    "    model_format_name=\"onnx\",\n",
    "    model_format_version=\"1\",\n",
    "    storage_key=\"my-data-connection\",\n",
    "    metadata={\n",
    "        # can be one of the following types\n",
    "        \"int_key\": 1,\n",
    "        \"bool_key\": False,\n",
    "        \"float_key\": 3.14,\n",
    "        \"str_key\": \"str_value\",\n",
    "    }\n",
    ")"
   ]
  }
 ],
 "metadata": {
  "kernelspec": {
   "display_name": "Python 3",
   "language": "python",
   "name": "python3"
  },
  "language_info": {
   "codemirror_mode": {
    "name": "ipython",
    "version": 3
   },
   "file_extension": ".py",
   "mimetype": "text/x-python",
   "name": "python",
   "nbconvert_exporter": "python",
   "pygments_lexer": "ipython3",
   "version": "3.12.8"
  }
 },
 "nbformat": 4,
 "nbformat_minor": 2
}
